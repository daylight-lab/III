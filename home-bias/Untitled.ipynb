{
 "cells": [
  {
   "cell_type": "code",
   "execution_count": 9,
   "metadata": {
    "autoscroll": false,
    "ein.hycell": false,
    "ein.tags": "worksheet-0",
    "slideshow": {
     "slide_type": "-"
    }
   },
   "outputs": [],
   "source": [
    "import requests\n",
    "from bs4 import BeautifulSoup"
   ]
  },
  {
   "cell_type": "markdown",
   "metadata": {},
   "source": [
    "# Get rankings from a country"
   ]
  },
  {
   "cell_type": "code",
   "execution_count": 42,
   "metadata": {
    "autoscroll": false,
    "ein.hycell": false,
    "ein.tags": "worksheet-0",
    "slideshow": {
     "slide_type": "-"
    }
   },
   "outputs": [],
   "source": [
    "af_rankings_url = 'https://www.alexa.com/topsites/countries/AF'"
   ]
  },
  {
   "cell_type": "code",
   "execution_count": 43,
   "metadata": {
    "autoscroll": false,
    "ein.hycell": false,
    "ein.tags": "worksheet-0",
    "slideshow": {
     "slide_type": "-"
    }
   },
   "outputs": [],
   "source": []
  },
  {
   "cell_type": "code",
   "execution_count": 44,
   "metadata": {
    "autoscroll": false,
    "ein.hycell": false,
    "ein.tags": "worksheet-0",
    "slideshow": {
     "slide_type": "-"
    }
   },
   "outputs": [],
   "source": []
  },
  {
   "cell_type": "code",
   "execution_count": 45,
   "metadata": {
    "autoscroll": false,
    "ein.hycell": false,
    "ein.tags": "worksheet-0",
    "slideshow": {
     "slide_type": "-"
    }
   },
   "outputs": [],
   "source": []
  },
  {
   "cell_type": "code",
   "execution_count": 99,
   "metadata": {
    "scrolled": true
   },
   "outputs": [
    {
     "data": {
      "text/plain": [
       "[{'rank': 1, 'url': 'Google.com', 'site_info': '/siteinfo/google.com'},\n",
       " {'rank': 2, 'url': 'Youtube.com', 'site_info': '/siteinfo/youtube.com'},\n",
       " {'rank': 3, 'url': 'Facebook.com', 'site_info': '/siteinfo/facebook.com'},\n",
       " {'rank': 4, 'url': 'Yahoo.com', 'site_info': '/siteinfo/yahoo.com'},\n",
       " {'rank': 5, 'url': 'Bbc.com', 'site_info': '/siteinfo/bbc.com'},\n",
       " {'rank': 6, 'url': 'Acbar.org', 'site_info': '/siteinfo/acbar.org'},\n",
       " {'rank': 7, 'url': 'Wikipedia.org', 'site_info': '/siteinfo/wikipedia.org'},\n",
       " {'rank': 8, 'url': 'Google.com.af', 'site_info': '/siteinfo/google.com.af'},\n",
       " {'rank': 9, 'url': 'Jobs.af', 'site_info': '/siteinfo/jobs.af'},\n",
       " {'rank': 10,\n",
       "  'url': 'Espncricinfo.com',\n",
       "  'site_info': '/siteinfo/espncricinfo.com'},\n",
       " {'rank': 11, 'url': 'Varzesh3.com', 'site_info': '/siteinfo/varzesh3.com'},\n",
       " {'rank': 12, 'url': 'Iarcsc.gov.af', 'site_info': '/siteinfo/iarcsc.gov.af'},\n",
       " {'rank': 13, 'url': 'Live.com', 'site_info': '/siteinfo/live.com'},\n",
       " {'rank': 14,\n",
       "  'url': 'Azadiradio.com',\n",
       "  'site_info': '/siteinfo/azadiradio.com'},\n",
       " {'rank': 15, 'url': 'Ariananews.co', 'site_info': '/siteinfo/ariananews.co'},\n",
       " {'rank': 16, 'url': 'Mydiba.link', 'site_info': '/siteinfo/mydiba.link'},\n",
       " {'rank': 17, 'url': 'Softonic.com', 'site_info': '/siteinfo/softonic.com'},\n",
       " {'rank': 18, 'url': 'Aparat.com', 'site_info': '/siteinfo/aparat.com'},\n",
       " {'rank': 19, 'url': 'Blogspot.com', 'site_info': '/siteinfo/blogspot.com'},\n",
       " {'rank': 20, 'url': 'Crane.aero', 'site_info': '/siteinfo/crane.aero'},\n",
       " {'rank': 21, 'url': 'Ask.com', 'site_info': '/siteinfo/ask.com'},\n",
       " {'rank': 22, 'url': 'Amazon.com', 'site_info': '/siteinfo/amazon.com'},\n",
       " {'rank': 23, 'url': 'Blogfa.com', 'site_info': '/siteinfo/blogfa.com'},\n",
       " {'rank': 24, 'url': 'Namnak.com', 'site_info': '/siteinfo/namnak.com'},\n",
       " {'rank': 25,\n",
       "  'url': 'Sputniknews.com',\n",
       "  'site_info': '/siteinfo/sputniknews.com'},\n",
       " {'rank': 26, 'url': 'O4af.com', 'site_info': '/siteinfo/o4af.com'},\n",
       " {'rank': 27, 'url': 'Tolonews.com', 'site_info': '/siteinfo/tolonews.com'},\n",
       " {'rank': 28, 'url': 'Microsoft.com', 'site_info': '/siteinfo/microsoft.com'},\n",
       " {'rank': 29, 'url': 'State.gov', 'site_info': '/siteinfo/state.gov'},\n",
       " {'rank': 30, 'url': 'Film2movie.ws', 'site_info': '/siteinfo/film2movie.ws'},\n",
       " {'rank': 31, 'url': 'Flyariana.com', 'site_info': '/siteinfo/flyariana.com'},\n",
       " {'rank': 32, 'url': 'Office.com', 'site_info': '/siteinfo/office.com'},\n",
       " {'rank': 33, 'url': 'Savefrom.net', 'site_info': '/siteinfo/savefrom.net'},\n",
       " {'rank': 34,\n",
       "  'url': 'Internetdownloadmanager.com',\n",
       "  'site_info': '/siteinfo/internetdownloadmanager.com'},\n",
       " {'rank': 35, 'url': 'Beytoote.com', 'site_info': '/siteinfo/beytoote.com'},\n",
       " {'rank': 36, 'url': 'Grammarly.com', 'site_info': '/siteinfo/grammarly.com'},\n",
       " {'rank': 37, 'url': 'Yts.am', 'site_info': '/siteinfo/yts.am'},\n",
       " {'rank': 38,\n",
       "  'url': 'Stackoverflow.com',\n",
       "  'site_info': '/siteinfo/stackoverflow.com'},\n",
       " {'rank': 39, 'url': 'Twitter.com', 'site_info': '/siteinfo/twitter.com'},\n",
       " {'rank': 40,\n",
       "  'url': 'Onlineafghanistan.com',\n",
       "  'site_info': '/siteinfo/onlineafghanistan.com'},\n",
       " {'rank': 41,\n",
       "  'url': 'Microsoftonline.com',\n",
       "  'site_info': '/siteinfo/microsoftonline.com'},\n",
       " {'rank': 42, 'url': 'Msn.com', 'site_info': '/siteinfo/msn.com'},\n",
       " {'rank': 43, 'url': 'Myway.com', 'site_info': '/siteinfo/myway.com'},\n",
       " {'rank': 44, 'url': '8am.af', 'site_info': '/siteinfo/8am.af'},\n",
       " {'rank': 45,\n",
       "  'url': 'Afghankarobar.com',\n",
       "  'site_info': '/siteinfo/afghankarobar.com'},\n",
       " {'rank': 46, 'url': 'Mohe.gov.af', 'site_info': '/siteinfo/mohe.gov.af'},\n",
       " {'rank': 47, 'url': 'Taand.com', 'site_info': '/siteinfo/taand.com'},\n",
       " {'rank': 48, 'url': 'Salamdl.info', 'site_info': '/siteinfo/salamdl.info'},\n",
       " {'rank': 49,\n",
       "  'url': 'Skytravellers.com',\n",
       "  'site_info': '/siteinfo/skytravellers.com'},\n",
       " {'rank': 50, 'url': 'Nunn.asia', 'site_info': '/siteinfo/nunn.asia'}]"
      ]
     },
     "execution_count": 99,
     "metadata": {},
     "output_type": "execute_result"
    }
   ],
   "source": [
    "from funcy import compose\n",
    "\n",
    "def get_country_rankings (country_ranking_url):\n",
    "        \n",
    "    def parse_country_ranking (country_ranking_url):\n",
    "        '''Takes a country ranking URL and returns a list of (bs4 parsed) ranking listings.'''\n",
    "        rankings_html = requests.get(country_ranking_url).content\n",
    "        soup = BeautifulSoup(rankings_html, 'html.parser')\n",
    "        listings = soup.find_all(\"div\", {\"class\": \"site-listing\"})\n",
    "        return listings\n",
    "\n",
    "    def extract_info (site_listing_html):\n",
    "        '''Takes HTML of an Alexa site listing and returns JSON.'''\n",
    "        attrs = site_listing_html.find_all(\"div\", {\"class\":\"td\"})\n",
    "        rank = int(attrs[0].text)\n",
    "        url = attrs[1].a.text\n",
    "        site_info = attrs[1].a['href']\n",
    "        return {\n",
    "            'rank': rank,\n",
    "            'url': url,\n",
    "            'site_info': site_info\n",
    "        }\n",
    "\n",
    "    return [extract_info(ranking) for\n",
    "           ranking in parse_country_ranking(country_ranking_url)]        \n",
    "    \n",
    "\n",
    "get_country_rankings(af_rankings_url)\n"
   ]
  },
  {
   "cell_type": "code",
   "execution_count": null,
   "metadata": {
    "scrolled": true
   },
   "outputs": [],
   "source": []
  },
  {
   "cell_type": "markdown",
   "metadata": {},
   "source": [
    "# Get list of all the countries"
   ]
  },
  {
   "cell_type": "code",
   "execution_count": 74,
   "metadata": {},
   "outputs": [],
   "source": [
    "all_countries_url = 'https://www.alexa.com/topsites/countries'"
   ]
  },
  {
   "cell_type": "code",
   "execution_count": 65,
   "metadata": {},
   "outputs": [],
   "source": [
    "soup = BeautifulSoup(requests.get(all_countries_url).content, 'html.parser')"
   ]
  },
  {
   "cell_type": "code",
   "execution_count": 89,
   "metadata": {},
   "outputs": [],
   "source": [
    "# print(soup.prettify())\n",
    "from funcy import flatten\n",
    "\n",
    "country_list=\\\n",
    "list(\n",
    "    flatten([ \n",
    "        lst.find_all('a') for lst \n",
    "        in soup.find_all('ul', {'class': 'countries'}) \n",
    "]))\n"
   ]
  },
  {
   "cell_type": "markdown",
   "metadata": {},
   "source": [
    "# Putting it all together"
   ]
  },
  {
   "cell_type": "code",
   "execution_count": 100,
   "metadata": {},
   "outputs": [
    {
     "name": "stdout",
     "output_type": "stream",
     "text": [
      "https://www.alexa.com//topsites/countries/AF\n",
      "https://www.alexa.com//topsites/countries/AL\n",
      "https://www.alexa.com//topsites/countries/DZ\n",
      "https://www.alexa.com//topsites/countries/AO\n",
      "https://www.alexa.com//topsites/countries/AR\n",
      "https://www.alexa.com//topsites/countries/AM\n",
      "https://www.alexa.com//topsites/countries/AU\n",
      "https://www.alexa.com//topsites/countries/AT\n",
      "https://www.alexa.com//topsites/countries/AZ\n",
      "https://www.alexa.com//topsites/countries/BS\n",
      "https://www.alexa.com//topsites/countries/BH\n",
      "https://www.alexa.com//topsites/countries/BD\n",
      "https://www.alexa.com//topsites/countries/BB\n",
      "https://www.alexa.com//topsites/countries/BY\n",
      "https://www.alexa.com//topsites/countries/BE\n",
      "https://www.alexa.com//topsites/countries/BZ\n",
      "https://www.alexa.com//topsites/countries/BJ\n",
      "https://www.alexa.com//topsites/countries/BM\n",
      "https://www.alexa.com//topsites/countries/BT\n",
      "https://www.alexa.com//topsites/countries/BO\n",
      "https://www.alexa.com//topsites/countries/BA\n",
      "https://www.alexa.com//topsites/countries/BW\n",
      "https://www.alexa.com//topsites/countries/BR\n",
      "https://www.alexa.com//topsites/countries/BN\n",
      "https://www.alexa.com//topsites/countries/BG\n",
      "https://www.alexa.com//topsites/countries/BF\n",
      "https://www.alexa.com//topsites/countries/BI\n",
      "https://www.alexa.com//topsites/countries/KH\n",
      "https://www.alexa.com//topsites/countries/CM\n",
      "https://www.alexa.com//topsites/countries/CA\n",
      "https://www.alexa.com//topsites/countries/CV\n",
      "https://www.alexa.com//topsites/countries/CL\n",
      "https://www.alexa.com//topsites/countries/CN\n",
      "https://www.alexa.com//topsites/countries/CO\n",
      "https://www.alexa.com//topsites/countries/CG\n",
      "https://www.alexa.com//topsites/countries/CR\n",
      "https://www.alexa.com//topsites/countries/CI\n",
      "https://www.alexa.com//topsites/countries/HR\n",
      "https://www.alexa.com//topsites/countries/CU\n",
      "https://www.alexa.com//topsites/countries/CW\n",
      "https://www.alexa.com//topsites/countries/CY\n",
      "https://www.alexa.com//topsites/countries/CZ\n",
      "https://www.alexa.com//topsites/countries/CD\n",
      "https://www.alexa.com//topsites/countries/DK\n",
      "https://www.alexa.com//topsites/countries/DJ\n",
      "https://www.alexa.com//topsites/countries/DO\n",
      "https://www.alexa.com//topsites/countries/EC\n",
      "https://www.alexa.com//topsites/countries/EG\n",
      "https://www.alexa.com//topsites/countries/SV\n",
      "https://www.alexa.com//topsites/countries/EE\n",
      "https://www.alexa.com//topsites/countries/ET\n",
      "https://www.alexa.com//topsites/countries/FJ\n",
      "https://www.alexa.com//topsites/countries/FI\n",
      "https://www.alexa.com//topsites/countries/FR\n",
      "https://www.alexa.com//topsites/countries/GF\n",
      "https://www.alexa.com//topsites/countries/PF\n",
      "https://www.alexa.com//topsites/countries/GA\n",
      "https://www.alexa.com//topsites/countries/GM\n",
      "https://www.alexa.com//topsites/countries/GE\n",
      "https://www.alexa.com//topsites/countries/DE\n",
      "https://www.alexa.com//topsites/countries/GH\n",
      "https://www.alexa.com//topsites/countries/GR\n",
      "https://www.alexa.com//topsites/countries/GP\n",
      "https://www.alexa.com//topsites/countries/GU\n",
      "https://www.alexa.com//topsites/countries/GT\n",
      "https://www.alexa.com//topsites/countries/GN\n",
      "https://www.alexa.com//topsites/countries/GY\n",
      "https://www.alexa.com//topsites/countries/HT\n",
      "https://www.alexa.com//topsites/countries/HN\n",
      "https://www.alexa.com//topsites/countries/HK\n",
      "https://www.alexa.com//topsites/countries/HU\n",
      "https://www.alexa.com//topsites/countries/IS\n",
      "https://www.alexa.com//topsites/countries/IN\n",
      "https://www.alexa.com//topsites/countries/ID\n",
      "https://www.alexa.com//topsites/countries/IR\n",
      "https://www.alexa.com//topsites/countries/IQ\n",
      "https://www.alexa.com//topsites/countries/IE\n",
      "https://www.alexa.com//topsites/countries/IL\n",
      "https://www.alexa.com//topsites/countries/IT\n",
      "https://www.alexa.com//topsites/countries/JM\n",
      "https://www.alexa.com//topsites/countries/JP\n",
      "https://www.alexa.com//topsites/countries/JO\n",
      "https://www.alexa.com//topsites/countries/KZ\n",
      "https://www.alexa.com//topsites/countries/KE\n",
      "https://www.alexa.com//topsites/countries/KW\n",
      "https://www.alexa.com//topsites/countries/KG\n",
      "https://www.alexa.com//topsites/countries/LA\n",
      "https://www.alexa.com//topsites/countries/LV\n",
      "https://www.alexa.com//topsites/countries/LB\n",
      "https://www.alexa.com//topsites/countries/LS\n",
      "https://www.alexa.com//topsites/countries/LR\n",
      "https://www.alexa.com//topsites/countries/LY\n",
      "https://www.alexa.com//topsites/countries/LT\n",
      "https://www.alexa.com//topsites/countries/LU\n",
      "https://www.alexa.com//topsites/countries/MO\n",
      "https://www.alexa.com//topsites/countries/MK\n",
      "https://www.alexa.com//topsites/countries/MG\n",
      "https://www.alexa.com//topsites/countries/MW\n",
      "https://www.alexa.com//topsites/countries/MY\n",
      "https://www.alexa.com//topsites/countries/MV\n",
      "https://www.alexa.com//topsites/countries/ML\n",
      "https://www.alexa.com//topsites/countries/MT\n",
      "https://www.alexa.com//topsites/countries/MQ\n",
      "https://www.alexa.com//topsites/countries/MR\n",
      "https://www.alexa.com//topsites/countries/MU\n",
      "https://www.alexa.com//topsites/countries/YT\n",
      "https://www.alexa.com//topsites/countries/MX\n",
      "https://www.alexa.com//topsites/countries/MD\n",
      "https://www.alexa.com//topsites/countries/MN\n",
      "https://www.alexa.com//topsites/countries/ME\n",
      "https://www.alexa.com//topsites/countries/MA\n",
      "https://www.alexa.com//topsites/countries/MZ\n",
      "https://www.alexa.com//topsites/countries/MM\n",
      "https://www.alexa.com//topsites/countries/NA\n",
      "https://www.alexa.com//topsites/countries/NP\n",
      "https://www.alexa.com//topsites/countries/NL\n",
      "https://www.alexa.com//topsites/countries/NC\n",
      "https://www.alexa.com//topsites/countries/NZ\n",
      "https://www.alexa.com//topsites/countries/NI\n",
      "https://www.alexa.com//topsites/countries/NE\n",
      "https://www.alexa.com//topsites/countries/NG\n",
      "https://www.alexa.com//topsites/countries/NO\n",
      "https://www.alexa.com//topsites/countries/OM\n",
      "https://www.alexa.com//topsites/countries/PK\n",
      "https://www.alexa.com//topsites/countries/PS\n",
      "https://www.alexa.com//topsites/countries/PA\n",
      "https://www.alexa.com//topsites/countries/PG\n",
      "https://www.alexa.com//topsites/countries/PY\n",
      "https://www.alexa.com//topsites/countries/PE\n",
      "https://www.alexa.com//topsites/countries/PH\n",
      "https://www.alexa.com//topsites/countries/PL\n",
      "https://www.alexa.com//topsites/countries/PT\n",
      "https://www.alexa.com//topsites/countries/PR\n",
      "https://www.alexa.com//topsites/countries/QA\n",
      "https://www.alexa.com//topsites/countries/RE\n",
      "https://www.alexa.com//topsites/countries/RO\n",
      "https://www.alexa.com//topsites/countries/RU\n",
      "https://www.alexa.com//topsites/countries/RW\n",
      "https://www.alexa.com//topsites/countries/LC\n",
      "https://www.alexa.com//topsites/countries/SA\n",
      "https://www.alexa.com//topsites/countries/SN\n",
      "https://www.alexa.com//topsites/countries/RS\n",
      "https://www.alexa.com//topsites/countries/SC\n",
      "https://www.alexa.com//topsites/countries/SL\n",
      "https://www.alexa.com//topsites/countries/SG\n",
      "https://www.alexa.com//topsites/countries/SK\n",
      "https://www.alexa.com//topsites/countries/SI\n",
      "https://www.alexa.com//topsites/countries/SO\n",
      "https://www.alexa.com//topsites/countries/ZA\n",
      "https://www.alexa.com//topsites/countries/KR\n",
      "https://www.alexa.com//topsites/countries/ES\n",
      "https://www.alexa.com//topsites/countries/LK\n",
      "https://www.alexa.com//topsites/countries/SD\n",
      "https://www.alexa.com//topsites/countries/SR\n",
      "https://www.alexa.com//topsites/countries/SZ\n",
      "https://www.alexa.com//topsites/countries/SE\n",
      "https://www.alexa.com//topsites/countries/CH\n",
      "https://www.alexa.com//topsites/countries/SY\n",
      "https://www.alexa.com//topsites/countries/TW\n",
      "https://www.alexa.com//topsites/countries/TJ\n",
      "https://www.alexa.com//topsites/countries/TZ\n",
      "https://www.alexa.com//topsites/countries/TH\n",
      "https://www.alexa.com//topsites/countries/TL\n",
      "https://www.alexa.com//topsites/countries/TG\n",
      "https://www.alexa.com//topsites/countries/TT\n",
      "https://www.alexa.com//topsites/countries/TN\n",
      "https://www.alexa.com//topsites/countries/TR\n",
      "https://www.alexa.com//topsites/countries/TM\n",
      "https://www.alexa.com//topsites/countries/UG\n",
      "https://www.alexa.com//topsites/countries/UA\n",
      "https://www.alexa.com//topsites/countries/AE\n",
      "https://www.alexa.com//topsites/countries/GB\n",
      "https://www.alexa.com//topsites/countries/US\n",
      "https://www.alexa.com//topsites/countries/UY\n",
      "https://www.alexa.com//topsites/countries/UZ\n",
      "https://www.alexa.com//topsites/countries/VE\n",
      "https://www.alexa.com//topsites/countries/VN\n",
      "https://www.alexa.com//topsites/countries/YE\n",
      "https://www.alexa.com//topsites/countries/ZM\n",
      "https://www.alexa.com//topsites/countries/ZW\n"
     ]
    }
   ],
   "source": [
    "for country in country_list:\n",
    "    country_url = 'https://www.alexa.com/' + country['href']\n",
    "    print(country_url)"
   ]
  }
 ],
 "metadata": {
  "kernelspec": {
   "display_name": "Python 3",
   "language": "python",
   "name": "python3"
  },
  "language_info": {
   "codemirror_mode": {
    "name": "ipython",
    "version": 3
   },
   "file_extension": ".py",
   "mimetype": "text/x-python",
   "name": "python",
   "nbconvert_exporter": "python",
   "pygments_lexer": "ipython3",
   "version": "3.6.8"
  },
  "name": "Untitled.ipynb"
 },
 "nbformat": 4,
 "nbformat_minor": 2
}
