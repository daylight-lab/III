{
 "cells": [
  {
   "cell_type": "code",
   "execution_count": 1,
   "metadata": {},
   "outputs": [
    {
     "name": "stdout",
     "output_type": "stream",
     "text": [
      "Populating the interactive namespace from numpy and matplotlib\n"
     ]
    }
   ],
   "source": [
    "%pylab inline\n",
    "import pandas as pd\n",
    "from helpers import dated_filename"
   ]
  },
  {
   "cell_type": "code",
   "execution_count": 2,
   "metadata": {},
   "outputs": [],
   "source": [
    "rankings = pd.read_csv('data/global-alexa-rankings-2019-06-15.csv')"
   ]
  },
  {
   "cell_type": "markdown",
   "metadata": {},
   "source": [
    "## Give each site a category\n",
    "\n",
    "Each URL is 'unique' in Alexa's site ontology. So, we will rename each `url` to a `url_code`, which uniquely identifies that site numerically."
   ]
  },
  {
   "cell_type": "code",
   "execution_count": 3,
   "metadata": {},
   "outputs": [],
   "source": [
    "num_sites = len(rankings.groupby('url').count())\n",
    "rankings['url_code'] =\\\n",
    "    rankings['url'].astype('category').cat.rename_categories(range(num_sites))"
   ]
  },
  {
   "cell_type": "markdown",
   "metadata": {},
   "source": [
    "# Calculate Levenshtein distance from global ranking\n",
    "\n",
    "For each country in the dataset, we will compute the [Levenshtein distance](https://en.wikipedia.org/wiki/Levenshtein_distance) between that country's top rankings and the global rankings.\n",
    "\n",
    "Here's a Leveinshtein distance implementation from the `textdistance` package:"
   ]
  },
  {
   "cell_type": "code",
   "execution_count": 4,
   "metadata": {},
   "outputs": [
    {
     "data": {
      "text/plain": [
       "3"
      ]
     },
     "execution_count": 4,
     "metadata": {},
     "output_type": "execute_result"
    }
   ],
   "source": [
    "from textdistance import levenshtein\n",
    "\n",
    "levenshtein.distance(\"Python\", \"Peithen\")"
   ]
  },
  {
   "cell_type": "markdown",
   "metadata": {},
   "source": [
    "To make this work, we'll need to encoude rankings `as_string` - a list of integers representing the top URLs in that country."
   ]
  },
  {
   "cell_type": "code",
   "execution_count": 5,
   "metadata": {},
   "outputs": [],
   "source": [
    "def as_string (country_ranking):\n",
    "    '''\n",
    "    Encodes top-ranked countries as a list of codes, where each code relates to a url. \n",
    "    Returns a list of integers.\n",
    "    '''\n",
    "    return country_ranking['url_code'].tolist()\n",
    "\n",
    "global_rankings = as_string(rankings[rankings['country_name']=='Global'])"
   ]
  },
  {
   "cell_type": "code",
   "execution_count": 18,
   "metadata": {},
   "outputs": [],
   "source": [
    "results = []\n",
    "for country, group in rankings.groupby('country_name'):\n",
    "    country_rankings = as_string(group)\n",
    "    if country != 'Global':\n",
    "        results += [{\n",
    "            'country': country,\n",
    "            'levenshtein_from_global_ranking':\\\n",
    "                levenshtein.distance(country_rankings, global_rankings),\n",
    "        }]\n",
    "results = pd.DataFrame(results)"
   ]
  },
  {
   "cell_type": "code",
   "execution_count": 22,
   "metadata": {},
   "outputs": [
    {
     "data": {
      "text/html": [
       "<div>\n",
       "<style scoped>\n",
       "    .dataframe tbody tr th:only-of-type {\n",
       "        vertical-align: middle;\n",
       "    }\n",
       "\n",
       "    .dataframe tbody tr th {\n",
       "        vertical-align: top;\n",
       "    }\n",
       "\n",
       "    .dataframe thead th {\n",
       "        text-align: right;\n",
       "    }\n",
       "</style>\n",
       "<table border=\"1\" class=\"dataframe\">\n",
       "  <thead>\n",
       "    <tr style=\"text-align: right;\">\n",
       "      <th></th>\n",
       "      <th>country</th>\n",
       "      <th>levenshtein_from_global_ranking</th>\n",
       "    </tr>\n",
       "  </thead>\n",
       "  <tbody>\n",
       "    <tr>\n",
       "      <th>132</th>\n",
       "      <td>Puerto Rico</td>\n",
       "      <td>42</td>\n",
       "    </tr>\n",
       "    <tr>\n",
       "      <th>135</th>\n",
       "      <td>Romania</td>\n",
       "      <td>43</td>\n",
       "    </tr>\n",
       "    <tr>\n",
       "      <th>171</th>\n",
       "      <td>United Kingdom</td>\n",
       "      <td>43</td>\n",
       "    </tr>\n",
       "    <tr>\n",
       "      <th>76</th>\n",
       "      <td>Ireland</td>\n",
       "      <td>43</td>\n",
       "    </tr>\n",
       "    <tr>\n",
       "      <th>93</th>\n",
       "      <td>Luxembourg</td>\n",
       "      <td>44</td>\n",
       "    </tr>\n",
       "  </tbody>\n",
       "</table>\n",
       "</div>"
      ],
      "text/plain": [
       "            country  levenshtein_from_global_ranking\n",
       "132     Puerto Rico                               42\n",
       "135         Romania                               43\n",
       "171  United Kingdom                               43\n",
       "76          Ireland                               43\n",
       "93       Luxembourg                               44"
      ]
     },
     "execution_count": 22,
     "metadata": {},
     "output_type": "execute_result"
    }
   ],
   "source": [
    "results.sort_values('levenshtein_from_global_ranking').head()"
   ]
  },
  {
   "cell_type": "code",
   "execution_count": 20,
   "metadata": {
    "scrolled": true
   },
   "outputs": [],
   "source": [
    "results.to_csv(dated_filename('analysis/levenshtein_from_global_ranking'))"
   ]
  }
 ],
 "metadata": {
  "kernelspec": {
   "display_name": "Python 3",
   "language": "python",
   "name": "python3"
  },
  "language_info": {
   "codemirror_mode": {
    "name": "ipython",
    "version": 3
   },
   "file_extension": ".py",
   "mimetype": "text/x-python",
   "name": "python",
   "nbconvert_exporter": "python",
   "pygments_lexer": "ipython3",
   "version": "3.6.8"
  }
 },
 "nbformat": 4,
 "nbformat_minor": 2
}
